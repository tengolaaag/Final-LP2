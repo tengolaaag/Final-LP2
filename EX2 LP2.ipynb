{
 "cells": [
  {
   "attachments": {},
   "cell_type": "markdown",
   "id": "8b53f2a4-9fa1-4046-8290-f5c9d6889408",
   "metadata": {},
   "source": [
    "<center><h1><span style=\"\">Universidad Nacional Agraria La Molina</span></h1></center>\n",
    "<center><h2><span style=\"\">Carrera Profesional de Estadística Infórmatica</span></h2></center>\n",
    "\n",
    "<center><img src=\"https://raw.githubusercontent.com/tengolaaag/Final-LP2/main/escudo.jpg\" width=\"300\" height=\"200\"></center>\n",
    "\n",
    "<center><h4><span style=\"\">Curso: Lenguaje de Programación II</span></h4></center>\n",
    "<center><h3><span style=\"\"> <b>Proyecto: <i> Extración automatizada de datos de IMDb y El Confidencial </b></i></span></h3></center>\n",
    "\n",
    "<center><h3><span style=\"\">Docente: Dra. Ana Cecilia VARGAS PAREDES</span></h3></center>\n",
    "\n",
    "### Integrantes: \n",
    "- Pedro Isaac Ñaupa Celis\n",
    "- Manolo Meza Rodríguez\n",
    "- Bruno Fabrizzio Candiotti Neyra\n",
    "\n",
    "## Introducción\n",
    "En la era digital actual, la disponibilidad y el acceso a contenido cinematográfico se ha expandido en gran medida gracias a diversas plataformas de streaming. La capacidad de encontrar y acceder a las mejores películas, según las valoraciones de los usuarios y la crítica, se ha convertido en una necesidad para muchos entusiastas del cine. En este contexto, se plantea un proyecto cuyo objetivo es identificar y mostrar el top 100 de las mejores películas, basándose en valoraciones de usuarios de IMDb y un artículo del diario El Confidencial, indicando además las plataformas de streaming en las que se encuentran disponibles.\n",
    "\n",
    "La elección de este tema responde a la creciente demanda de los usuarios por tener una guía centralizada y actualizada que les permita acceder a contenido de calidad sin la necesidad de buscar en múltiples fuentes. La integración de datos de valoraciones y disponibilidad en plataformas de streaming facilitará a los usuarios la búsqueda y visualización de películas, mejorando su experiencia y optimizando su tiempo. \n"
   ]
  },
  {
   "cell_type": "markdown",
   "id": "df4fb5ad-fbd9-489e-bc86-43dd663f8a2f",
   "metadata": {},
   "source": [
    "## Objetivos del proyecto\n",
    "### Objetivo general:\n",
    "Desarrollar un sistema automatizado que recopile, analice y visualice el top 100 de las mejores películas según las valoraciones de IMDb y El Confidencial, indicando las plataformas de streaming donde se encuentran disponibles, para proporcionar a los usuarios una herramienta útil y accesible.\n",
    "### Objetivos específicos:\n",
    "- Obtener datos sobre las películas mejor valoradas: Utilizar la API de IMDb y realizar web scraping del artículo de El Confidencial para recopilar información sobre las películas mejor valoradas por usuarios y crítica.\n",
    "- Identificar disponibilidad en plataformas de streaming: Utilizar la API Streaming Availability para determinar en qué plataformas de streaming están disponibles las películas seleccionadas.\n",
    "- Análisis y consolidación de datos: Implementar técnicas de análisis de datos para consolidar y organizar la información recopilada de las diferentes fuentes.\n",
    "- Desarrollar un sistema de búsqueda y visualización: Crear una barra de búsqueda interactiva que permita a los usuarios encontrar fácilmente las películas según sus valoraciones y disponibilidad en plataformas de streaming.\n",
    "- Automatización del proceso: Desarrollar un script automatizado que realice la recolección, análisis y visualización de datos de forma periódica, garantizando que la información esté siempre actualizada."
   ]
  },
  {
   "cell_type": "markdown",
   "id": "dfd22bc8-bb21-4bf4-99dc-58b5c616f4ba",
   "metadata": {},
   "source": [
    "## Metodología"
   ]
  },
  {
   "cell_type": "markdown",
   "id": "592eeae5-2321-4cb3-a335-38438eac92c9",
   "metadata": {},
   "source": [
    "Se extraerán los datos de la siguiente manera:\n",
    "\n",
    "**IMDb API:**\n",
    "Realizaremos consultas a la API de IMDb para obtener datos detallados sobre las películas mejor valoradas por los usuarios, incluyendo puntuaciones, descripciones y más. Para dicho fin se hace uso de la librería \"Request\" en Python, como parametros se consideran a las puntuaciones, descripciones, asi como información relevante sobre las películas, las respuestas se dan en formato JSON.\n",
    "\n",
    "**El Confidencial:**\n",
    "Realizaremos web scraping para extraer información de un artículo específico de El Confidencial que lista las mejores película API Streaming. Uso de las librerías \"BeautifulSoup\" y \"Requests\". \n",
    "\n",
    "**Availability:** \n",
    "Esta API nos permitirá conocer en qué plataformas de streaming están disponibles las películas seleccionadas. Se hace uso de la libreria \"Requests\", cuyos \n",
    "parametros son los identificadores de películas, las respuestas se dan en formato JSON.\n",
    "\n",
    "\n",
    "\n"
   ]
  },
  {
   "cell_type": "code",
   "execution_count": null,
   "id": "47f1065e-02ec-4260-b733-6369678ed90f",
   "metadata": {},
   "outputs": [],
   "source": []
  },
  {
   "cell_type": "code",
   "execution_count": null,
   "id": "6b56f011-2bf8-4bb5-993b-7e0fff4a4f17",
   "metadata": {},
   "outputs": [],
   "source": []
  },
  {
   "cell_type": "code",
   "execution_count": null,
   "id": "c50439ea-c3cd-4541-9f7e-2305a3c7ca98",
   "metadata": {},
   "outputs": [],
   "source": []
  }
 ],
 "metadata": {
  "kernelspec": {
   "display_name": "Python 3 (ipykernel)",
   "language": "python",
   "name": "python3"
  },
  "language_info": {
   "codemirror_mode": {
    "name": "ipython",
    "version": 3
   },
   "file_extension": ".py",
   "mimetype": "text/x-python",
   "name": "python",
   "nbconvert_exporter": "python",
   "pygments_lexer": "ipython3",
   "version": "3.12.1"
  }
 },
 "nbformat": 4,
 "nbformat_minor": 5
}
